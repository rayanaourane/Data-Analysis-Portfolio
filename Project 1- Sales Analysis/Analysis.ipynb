{
 "cells": [
  {
   "cell_type": "markdown",
   "id": "02702950",
   "metadata": {},
   "source": [
    "Content:\n",
    "\n",
    "1. Cleaning and Transforming the Data\n",
    "2. Univariate Analysis\n",
    "3. KPI   \n",
    "\ta. What is the average revenue per order?   \n",
    "\tb. What is the monthly sales revenue?   \n",
    "\tc. What category of products had the largest sales volume?   \n",
    "\td. What items had the largest sales volume?   \n",
    "\te. What category of products made the most sales revenue?    \n",
    "\tf. What items made the most and the least sales revenue?    \n",
    "\tg. What is the average monthly growth rate?     \n",
    "\th. What are the top 10 states by sales?     \n",
    "\ti. What is the number of monthly active customers?      \n",
    "    j. How many of these customers are new, how many are returning customers?What is the new customers growth rate?"
   ]
  },
  {
   "cell_type": "markdown",
   "id": "086962b1",
   "metadata": {},
   "source": [
    "1. Cleaning and Transforming the Data"
   ]
  },
  {
   "cell_type": "code",
   "execution_count": 116,
   "id": "353bef45",
   "metadata": {},
   "outputs": [],
   "source": [
    "#importing the required libraries\n",
    "import pandas as pd\n",
    "import numpy as np\n",
    "import matplotlib.pyplot as plt\n",
    "\n",
    "#datetime\n",
    "import datetime as dt\n",
    "\n",
    "#file directoryy\n",
    "import os\n",
    "import glob\n"
   ]
  },
  {
   "cell_type": "code",
   "execution_count": 117,
   "id": "3571d0d3",
   "metadata": {
    "scrolled": true
   },
   "outputs": [
    {
     "name": "stdout",
     "output_type": "stream",
     "text": [
      "Sales_April_2019.csv\n",
      "Sales_August_2019.csv\n",
      "Sales_December_2019.csv\n",
      "Sales_February_2019.csv\n",
      "Sales_January_2019.csv\n",
      "Sales_July_2019.csv\n",
      "Sales_June_2019.csv\n",
      "Sales_March_2019.csv\n",
      "Sales_May_2019.csv\n",
      "Sales_November_2019.csv\n",
      "Sales_October_2019.csv\n",
      "Sales_September_2019.csv\n"
     ]
    }
   ],
   "source": [
    "files = [file for file in os.listdir(r\"C:\\Users\\rayan\\OneDrive\\Documents\\Sales_2019\")]\n",
    "\n",
    "for each_file in files:\n",
    "    print(each_file)"
   ]
  },
  {
   "cell_type": "code",
   "execution_count": 118,
   "id": "f0683f10",
   "metadata": {},
   "outputs": [],
   "source": [
    " \n",
    "df = pd.DataFrame() \n",
    "\n",
    "#concatenating the files \n",
    "for each_file in files:\n",
    "    sales_data = pd.read_csv(f\"C:\\\\Users\\\\rayan\\\\OneDrive\\\\Documents\\\\Sales_2019//{each_file}\")\n",
    "    df = pd.concat([df, sales_data])\n"
   ]
  },
  {
   "cell_type": "code",
   "execution_count": 119,
   "id": "994079ae",
   "metadata": {
    "scrolled": true
   },
   "outputs": [
    {
     "data": {
      "text/html": [
       "<div>\n",
       "<style scoped>\n",
       "    .dataframe tbody tr th:only-of-type {\n",
       "        vertical-align: middle;\n",
       "    }\n",
       "\n",
       "    .dataframe tbody tr th {\n",
       "        vertical-align: top;\n",
       "    }\n",
       "\n",
       "    .dataframe thead th {\n",
       "        text-align: right;\n",
       "    }\n",
       "</style>\n",
       "<table border=\"1\" class=\"dataframe\">\n",
       "  <thead>\n",
       "    <tr style=\"text-align: right;\">\n",
       "      <th></th>\n",
       "      <th>Order ID</th>\n",
       "      <th>Product</th>\n",
       "      <th>Quantity Ordered</th>\n",
       "      <th>Price Each</th>\n",
       "      <th>Order Date</th>\n",
       "      <th>Purchase Address</th>\n",
       "    </tr>\n",
       "  </thead>\n",
       "  <tbody>\n",
       "    <tr>\n",
       "      <th>0</th>\n",
       "      <td>176558</td>\n",
       "      <td>USB-C Charging Cable</td>\n",
       "      <td>2</td>\n",
       "      <td>11.95</td>\n",
       "      <td>04/19/19 08:46</td>\n",
       "      <td>917 1st St, Dallas, TX 75001</td>\n",
       "    </tr>\n",
       "    <tr>\n",
       "      <th>1</th>\n",
       "      <td>NaN</td>\n",
       "      <td>NaN</td>\n",
       "      <td>NaN</td>\n",
       "      <td>NaN</td>\n",
       "      <td>NaN</td>\n",
       "      <td>NaN</td>\n",
       "    </tr>\n",
       "    <tr>\n",
       "      <th>2</th>\n",
       "      <td>176559</td>\n",
       "      <td>Bose SoundSport Headphones</td>\n",
       "      <td>1</td>\n",
       "      <td>99.99</td>\n",
       "      <td>04/07/19 22:30</td>\n",
       "      <td>682 Chestnut St, Boston, MA 02215</td>\n",
       "    </tr>\n",
       "    <tr>\n",
       "      <th>3</th>\n",
       "      <td>176560</td>\n",
       "      <td>Google Phone</td>\n",
       "      <td>1</td>\n",
       "      <td>600</td>\n",
       "      <td>04/12/19 14:38</td>\n",
       "      <td>669 Spruce St, Los Angeles, CA 90001</td>\n",
       "    </tr>\n",
       "    <tr>\n",
       "      <th>4</th>\n",
       "      <td>176560</td>\n",
       "      <td>Wired Headphones</td>\n",
       "      <td>1</td>\n",
       "      <td>11.99</td>\n",
       "      <td>04/12/19 14:38</td>\n",
       "      <td>669 Spruce St, Los Angeles, CA 90001</td>\n",
       "    </tr>\n",
       "  </tbody>\n",
       "</table>\n",
       "</div>"
      ],
      "text/plain": [
       "  Order ID                     Product Quantity Ordered Price Each  \\\n",
       "0   176558        USB-C Charging Cable                2      11.95   \n",
       "1      NaN                         NaN              NaN        NaN   \n",
       "2   176559  Bose SoundSport Headphones                1      99.99   \n",
       "3   176560                Google Phone                1        600   \n",
       "4   176560            Wired Headphones                1      11.99   \n",
       "\n",
       "       Order Date                      Purchase Address  \n",
       "0  04/19/19 08:46          917 1st St, Dallas, TX 75001  \n",
       "1             NaN                                   NaN  \n",
       "2  04/07/19 22:30     682 Chestnut St, Boston, MA 02215  \n",
       "3  04/12/19 14:38  669 Spruce St, Los Angeles, CA 90001  \n",
       "4  04/12/19 14:38  669 Spruce St, Los Angeles, CA 90001  "
      ]
     },
     "execution_count": 119,
     "metadata": {},
     "output_type": "execute_result"
    }
   ],
   "source": [
    "#glimpse of data\n",
    "df.head()\n"
   ]
  },
  {
   "cell_type": "code",
   "execution_count": 120,
   "id": "91eb7e55",
   "metadata": {},
   "outputs": [
    {
     "data": {
      "text/plain": [
       "Order ID            545\n",
       "Product             545\n",
       "Quantity Ordered    545\n",
       "Price Each          545\n",
       "Order Date          545\n",
       "Purchase Address    545\n",
       "dtype: int64"
      ]
     },
     "execution_count": 120,
     "metadata": {},
     "output_type": "execute_result"
    }
   ],
   "source": [
    "#checking for empty cells \n",
    "total_null = df.isnull().sum().sort_values(ascending = False)\n",
    "total_null"
   ]
  },
  {
   "cell_type": "code",
   "execution_count": 121,
   "id": "4b76dfaf",
   "metadata": {
    "scrolled": false
   },
   "outputs": [
    {
     "data": {
      "text/plain": [
       "(186850, 6)"
      ]
     },
     "execution_count": 121,
     "metadata": {},
     "output_type": "execute_result"
    }
   ],
   "source": [
    "#the empty cells are consistent accross all columns, we can delete those entire rows. \n",
    "df.shape "
   ]
  },
  {
   "cell_type": "code",
   "execution_count": 122,
   "id": "73b44a3d",
   "metadata": {
    "scrolled": true
   },
   "outputs": [
    {
     "data": {
      "text/plain": [
       "(186305, 6)"
      ]
     },
     "execution_count": 122,
     "metadata": {},
     "output_type": "execute_result"
    }
   ],
   "source": [
    "#After dropping 545 row, there should be 186850-545 = 186305 rows\n",
    "#dropping the empty rows\n",
    "df = df.dropna() \n",
    "df.shape"
   ]
  },
  {
   "cell_type": "code",
   "execution_count": 123,
   "id": "bbb00ab0",
   "metadata": {
    "scrolled": true
   },
   "outputs": [
    {
     "data": {
      "text/plain": [
       "Order ID            object\n",
       "Product             object\n",
       "Quantity Ordered    object\n",
       "Price Each          object\n",
       "Order Date          object\n",
       "Purchase Address    object\n",
       "dtype: object"
      ]
     },
     "execution_count": 123,
     "metadata": {},
     "output_type": "execute_result"
    }
   ],
   "source": [
    "df.dtypes #checking for inconsistent data types"
   ]
  },
  {
   "cell_type": "code",
   "execution_count": 124,
   "id": "4c5a06d2",
   "metadata": {},
   "outputs": [],
   "source": [
    "#Quantity Ordered should not be objects but integers. \n",
    "#turning Quantity ordered into numbers.\n",
    "df['Quantity Ordered']=pd.to_numeric(df['Quantity Ordered'], errors='coerce')  \n",
    "#empty cells prevent us from turning them into integers. Dropping empty cells.\n",
    "df.dropna(subset = ['Quantity Ordered'], inplace = True) \n",
    "#Turning the values into integers. \n",
    "df['Quantity Ordered']=pd.to_numeric(df['Quantity Ordered'], downcast='integer')\n",
    "\n",
    "# Prices should not be objects but floats\n",
    "df['Price Each'] = pd.to_numeric(df['Price Each'], errors='coerce', downcast ='float')\n",
    "#Rounding the prices to 2 decimal places as it appeared some values had more. \n",
    "df['Price Each'] = df['Price Each'].apply(lambda x:round(x,2))\n",
    "\n",
    "#Order date should be a date.\n",
    "df['Order Date'] = pd.to_datetime(df['Order Date'], errors='coerce')"
   ]
  },
  {
   "cell_type": "code",
   "execution_count": 125,
   "id": "1759f39f",
   "metadata": {
    "scrolled": false
   },
   "outputs": [
    {
     "data": {
      "text/plain": [
       "Order ID                    object\n",
       "Product                     object\n",
       "Quantity Ordered              int8\n",
       "Price Each                 float64\n",
       "Order Date          datetime64[ns]\n",
       "Purchase Address            object\n",
       "dtype: object"
      ]
     },
     "execution_count": 125,
     "metadata": {},
     "output_type": "execute_result"
    }
   ],
   "source": [
    "df.dtypes #checking the changes."
   ]
  },
  {
   "cell_type": "code",
   "execution_count": 126,
   "id": "42219d6b",
   "metadata": {},
   "outputs": [],
   "source": [
    "#setting Order ID as our index\n",
    "df = df.set_index('Order ID')"
   ]
  },
  {
   "cell_type": "code",
   "execution_count": 127,
   "id": "1c125bae",
   "metadata": {
    "scrolled": true
   },
   "outputs": [],
   "source": [
    "#Create a new column for months  \n",
    "\n",
    "Month = df['Order Date'].dt.strftime('%b')\n",
    "df.insert(5, 'Month', Month)"
   ]
  },
  {
   "cell_type": "code",
   "execution_count": 128,
   "id": "4e155143",
   "metadata": {
    "scrolled": true
   },
   "outputs": [],
   "source": [
    "#Ordering the table by Month\n",
    "#df = df.sort_values('Month', key = lambda x : pd.to_datetime(x, format='%b').dt.month)"
   ]
  },
  {
   "cell_type": "code",
   "execution_count": 129,
   "id": "8edc5400",
   "metadata": {
    "scrolled": false
   },
   "outputs": [
    {
     "data": {
      "text/html": [
       "<div>\n",
       "<style scoped>\n",
       "    .dataframe tbody tr th:only-of-type {\n",
       "        vertical-align: middle;\n",
       "    }\n",
       "\n",
       "    .dataframe tbody tr th {\n",
       "        vertical-align: top;\n",
       "    }\n",
       "\n",
       "    .dataframe thead th {\n",
       "        text-align: right;\n",
       "    }\n",
       "</style>\n",
       "<table border=\"1\" class=\"dataframe\">\n",
       "  <thead>\n",
       "    <tr style=\"text-align: right;\">\n",
       "      <th></th>\n",
       "      <th>Product</th>\n",
       "      <th>Quantity Ordered</th>\n",
       "      <th>Price Each</th>\n",
       "      <th>Order Date</th>\n",
       "      <th>Purchase Address</th>\n",
       "      <th>Month</th>\n",
       "      <th>Street</th>\n",
       "      <th>City</th>\n",
       "      <th>State</th>\n",
       "    </tr>\n",
       "    <tr>\n",
       "      <th>Order ID</th>\n",
       "      <th></th>\n",
       "      <th></th>\n",
       "      <th></th>\n",
       "      <th></th>\n",
       "      <th></th>\n",
       "      <th></th>\n",
       "      <th></th>\n",
       "      <th></th>\n",
       "      <th></th>\n",
       "    </tr>\n",
       "  </thead>\n",
       "  <tbody>\n",
       "    <tr>\n",
       "      <th>176558</th>\n",
       "      <td>USB-C Charging Cable</td>\n",
       "      <td>2</td>\n",
       "      <td>11.95</td>\n",
       "      <td>2019-04-19 08:46:00</td>\n",
       "      <td>917 1st St, Dallas, TX 75001</td>\n",
       "      <td>Apr</td>\n",
       "      <td>917 1st St</td>\n",
       "      <td>Dallas</td>\n",
       "      <td>TX 75001</td>\n",
       "    </tr>\n",
       "    <tr>\n",
       "      <th>176559</th>\n",
       "      <td>Bose SoundSport Headphones</td>\n",
       "      <td>1</td>\n",
       "      <td>99.99</td>\n",
       "      <td>2019-04-07 22:30:00</td>\n",
       "      <td>682 Chestnut St, Boston, MA 02215</td>\n",
       "      <td>Apr</td>\n",
       "      <td>682 Chestnut St</td>\n",
       "      <td>Boston</td>\n",
       "      <td>MA 02215</td>\n",
       "    </tr>\n",
       "    <tr>\n",
       "      <th>176560</th>\n",
       "      <td>Google Phone</td>\n",
       "      <td>1</td>\n",
       "      <td>600.00</td>\n",
       "      <td>2019-04-12 14:38:00</td>\n",
       "      <td>669 Spruce St, Los Angeles, CA 90001</td>\n",
       "      <td>Apr</td>\n",
       "      <td>669 Spruce St</td>\n",
       "      <td>Los Angeles</td>\n",
       "      <td>CA 90001</td>\n",
       "    </tr>\n",
       "    <tr>\n",
       "      <th>176560</th>\n",
       "      <td>Wired Headphones</td>\n",
       "      <td>1</td>\n",
       "      <td>11.99</td>\n",
       "      <td>2019-04-12 14:38:00</td>\n",
       "      <td>669 Spruce St, Los Angeles, CA 90001</td>\n",
       "      <td>Apr</td>\n",
       "      <td>669 Spruce St</td>\n",
       "      <td>Los Angeles</td>\n",
       "      <td>CA 90001</td>\n",
       "    </tr>\n",
       "    <tr>\n",
       "      <th>176561</th>\n",
       "      <td>Wired Headphones</td>\n",
       "      <td>1</td>\n",
       "      <td>11.99</td>\n",
       "      <td>2019-04-30 09:27:00</td>\n",
       "      <td>333 8th St, Los Angeles, CA 90001</td>\n",
       "      <td>Apr</td>\n",
       "      <td>333 8th St</td>\n",
       "      <td>Los Angeles</td>\n",
       "      <td>CA 90001</td>\n",
       "    </tr>\n",
       "  </tbody>\n",
       "</table>\n",
       "</div>"
      ],
      "text/plain": [
       "                             Product  Quantity Ordered  Price Each  \\\n",
       "Order ID                                                             \n",
       "176558          USB-C Charging Cable                 2       11.95   \n",
       "176559    Bose SoundSport Headphones                 1       99.99   \n",
       "176560                  Google Phone                 1      600.00   \n",
       "176560              Wired Headphones                 1       11.99   \n",
       "176561              Wired Headphones                 1       11.99   \n",
       "\n",
       "                  Order Date                      Purchase Address Month  \\\n",
       "Order ID                                                                   \n",
       "176558   2019-04-19 08:46:00          917 1st St, Dallas, TX 75001   Apr   \n",
       "176559   2019-04-07 22:30:00     682 Chestnut St, Boston, MA 02215   Apr   \n",
       "176560   2019-04-12 14:38:00  669 Spruce St, Los Angeles, CA 90001   Apr   \n",
       "176560   2019-04-12 14:38:00  669 Spruce St, Los Angeles, CA 90001   Apr   \n",
       "176561   2019-04-30 09:27:00     333 8th St, Los Angeles, CA 90001   Apr   \n",
       "\n",
       "                   Street          City      State  \n",
       "Order ID                                            \n",
       "176558         917 1st St        Dallas   TX 75001  \n",
       "176559    682 Chestnut St        Boston   MA 02215  \n",
       "176560      669 Spruce St   Los Angeles   CA 90001  \n",
       "176560      669 Spruce St   Los Angeles   CA 90001  \n",
       "176561         333 8th St   Los Angeles   CA 90001  "
      ]
     },
     "execution_count": 129,
     "metadata": {},
     "output_type": "execute_result"
    }
   ],
   "source": [
    "#Split the street, city and State into their own columns. \n",
    "df[['Street', 'City', 'State']] = df['Purchase Address'].str.split(',', expand=True)\n",
    "df.head()"
   ]
  },
  {
   "cell_type": "code",
   "execution_count": 130,
   "id": "6f97692d",
   "metadata": {},
   "outputs": [
    {
     "data": {
      "text/html": [
       "<div>\n",
       "<style scoped>\n",
       "    .dataframe tbody tr th:only-of-type {\n",
       "        vertical-align: middle;\n",
       "    }\n",
       "\n",
       "    .dataframe tbody tr th {\n",
       "        vertical-align: top;\n",
       "    }\n",
       "\n",
       "    .dataframe thead th {\n",
       "        text-align: right;\n",
       "    }\n",
       "</style>\n",
       "<table border=\"1\" class=\"dataframe\">\n",
       "  <thead>\n",
       "    <tr style=\"text-align: right;\">\n",
       "      <th></th>\n",
       "      <th>Product</th>\n",
       "      <th>Quantity Ordered</th>\n",
       "      <th>Price Each</th>\n",
       "      <th>Order Date</th>\n",
       "      <th>Purchase Address</th>\n",
       "      <th>Month</th>\n",
       "      <th>City</th>\n",
       "      <th>State</th>\n",
       "    </tr>\n",
       "    <tr>\n",
       "      <th>Order ID</th>\n",
       "      <th></th>\n",
       "      <th></th>\n",
       "      <th></th>\n",
       "      <th></th>\n",
       "      <th></th>\n",
       "      <th></th>\n",
       "      <th></th>\n",
       "      <th></th>\n",
       "    </tr>\n",
       "  </thead>\n",
       "  <tbody>\n",
       "    <tr>\n",
       "      <th>176558</th>\n",
       "      <td>USB-C Charging Cable</td>\n",
       "      <td>2</td>\n",
       "      <td>11.95</td>\n",
       "      <td>2019-04-19 08:46:00</td>\n",
       "      <td>917 1st St, Dallas, TX 75001</td>\n",
       "      <td>Apr</td>\n",
       "      <td>Dallas</td>\n",
       "      <td>TX</td>\n",
       "    </tr>\n",
       "    <tr>\n",
       "      <th>176559</th>\n",
       "      <td>Bose SoundSport Headphones</td>\n",
       "      <td>1</td>\n",
       "      <td>99.99</td>\n",
       "      <td>2019-04-07 22:30:00</td>\n",
       "      <td>682 Chestnut St, Boston, MA 02215</td>\n",
       "      <td>Apr</td>\n",
       "      <td>Boston</td>\n",
       "      <td>MA</td>\n",
       "    </tr>\n",
       "    <tr>\n",
       "      <th>176560</th>\n",
       "      <td>Google Phone</td>\n",
       "      <td>1</td>\n",
       "      <td>600.00</td>\n",
       "      <td>2019-04-12 14:38:00</td>\n",
       "      <td>669 Spruce St, Los Angeles, CA 90001</td>\n",
       "      <td>Apr</td>\n",
       "      <td>Los Angeles</td>\n",
       "      <td>CA</td>\n",
       "    </tr>\n",
       "    <tr>\n",
       "      <th>176560</th>\n",
       "      <td>Wired Headphones</td>\n",
       "      <td>1</td>\n",
       "      <td>11.99</td>\n",
       "      <td>2019-04-12 14:38:00</td>\n",
       "      <td>669 Spruce St, Los Angeles, CA 90001</td>\n",
       "      <td>Apr</td>\n",
       "      <td>Los Angeles</td>\n",
       "      <td>CA</td>\n",
       "    </tr>\n",
       "    <tr>\n",
       "      <th>176561</th>\n",
       "      <td>Wired Headphones</td>\n",
       "      <td>1</td>\n",
       "      <td>11.99</td>\n",
       "      <td>2019-04-30 09:27:00</td>\n",
       "      <td>333 8th St, Los Angeles, CA 90001</td>\n",
       "      <td>Apr</td>\n",
       "      <td>Los Angeles</td>\n",
       "      <td>CA</td>\n",
       "    </tr>\n",
       "  </tbody>\n",
       "</table>\n",
       "</div>"
      ],
      "text/plain": [
       "                             Product  Quantity Ordered  Price Each  \\\n",
       "Order ID                                                             \n",
       "176558          USB-C Charging Cable                 2       11.95   \n",
       "176559    Bose SoundSport Headphones                 1       99.99   \n",
       "176560                  Google Phone                 1      600.00   \n",
       "176560              Wired Headphones                 1       11.99   \n",
       "176561              Wired Headphones                 1       11.99   \n",
       "\n",
       "                  Order Date                      Purchase Address Month  \\\n",
       "Order ID                                                                   \n",
       "176558   2019-04-19 08:46:00          917 1st St, Dallas, TX 75001   Apr   \n",
       "176559   2019-04-07 22:30:00     682 Chestnut St, Boston, MA 02215   Apr   \n",
       "176560   2019-04-12 14:38:00  669 Spruce St, Los Angeles, CA 90001   Apr   \n",
       "176560   2019-04-12 14:38:00  669 Spruce St, Los Angeles, CA 90001   Apr   \n",
       "176561   2019-04-30 09:27:00     333 8th St, Los Angeles, CA 90001   Apr   \n",
       "\n",
       "                  City State  \n",
       "Order ID                      \n",
       "176558          Dallas    TX  \n",
       "176559          Boston    MA  \n",
       "176560     Los Angeles    CA  \n",
       "176560     Los Angeles    CA  \n",
       "176561     Los Angeles    CA  "
      ]
     },
     "execution_count": 130,
     "metadata": {},
     "output_type": "execute_result"
    }
   ],
   "source": [
    "#drop zip code(irrelevant). First, split State and zip\n",
    "df[['State', 'Zip']] =df['State'].str.split(expand=True)\n",
    "\n",
    "#then drop Zip\n",
    "del df['Zip']\n",
    "\n",
    "#We will keep the original'Purchase Address' column because it is unique and allows us to identify each customer.\n",
    "#We will drop the street. \n",
    "del df['Street']\n",
    "df.head()"
   ]
  },
  {
   "cell_type": "code",
   "execution_count": 131,
   "id": "ff757ba3",
   "metadata": {},
   "outputs": [
    {
     "data": {
      "text/plain": [
       "array(['Product', 'Quantity Ordered', 'Price Each', 'Order Date',\n",
       "       'Purchase Address', 'Month', 'City', 'State', 'Category',\n",
       "       'Revenue'], dtype=object)"
      ]
     },
     "execution_count": 131,
     "metadata": {},
     "output_type": "execute_result"
    }
   ],
   "source": [
    "#Create product categories to better visualize our sales\n",
    "categories = {'Laptops': ['Macbook Pro Laptop','ThinkPad Laptop',], 'Monitors': ['27in 4K Gaming Monitor ','34in Ultrawide Monitor', 'Flatscreen TV', '27in FHD Monitor', '20in Monitor'], 'Phones': ['iPhone','Google Phone', 'Vareebadd Phone'], 'Headphones': ['Apple Airpods Headphones','Bose SoundSport Headphones', 'Wired Headphones'], 'Appliances': ['LG Washing Machine', 'LG Dryer'], 'Other Electronics': ['Lightning Charging Cable', 'USB-C Charging Cable', 'AA Batteries (4-pack)', 'AAA Batteries (4-pack)']}\n",
    "\n",
    "#Create Category column\n",
    "df['Category'] = df['Product'].map({i: k for k, v in categories.items() for i in v})\n",
    "\n",
    "#Adding a Revenue column\n",
    "df['Revenue']=df['Price Each']*df['Quantity Ordered']\n",
    "\n",
    "#Rounding up the Revenue column to 2 decimal places. Otherwise returns an exponential notation.  \n",
    "df['Revenue'] = df['Revenue'].apply(lambda x:round(x,2))\n",
    "df. columns. values"
   ]
  },
  {
   "cell_type": "code",
   "execution_count": 132,
   "id": "c0e58768",
   "metadata": {
    "scrolled": true
   },
   "outputs": [
    {
     "data": {
      "text/plain": [
       "array(['Product', 'Quantity Ordered', 'Price Each', 'Order Date',\n",
       "       'Purchase Address', 'Month', 'City', 'State', 'Category',\n",
       "       'Revenue'], dtype=object)"
      ]
     },
     "execution_count": 132,
     "metadata": {},
     "output_type": "execute_result"
    }
   ],
   "source": [
    "df.columns.values"
   ]
  },
  {
   "cell_type": "code",
   "execution_count": 133,
   "id": "0c238209",
   "metadata": {},
   "outputs": [
    {
     "data": {
      "text/html": [
       "<div>\n",
       "<style scoped>\n",
       "    .dataframe tbody tr th:only-of-type {\n",
       "        vertical-align: middle;\n",
       "    }\n",
       "\n",
       "    .dataframe tbody tr th {\n",
       "        vertical-align: top;\n",
       "    }\n",
       "\n",
       "    .dataframe thead th {\n",
       "        text-align: right;\n",
       "    }\n",
       "</style>\n",
       "<table border=\"1\" class=\"dataframe\">\n",
       "  <thead>\n",
       "    <tr style=\"text-align: right;\">\n",
       "      <th></th>\n",
       "      <th>Category</th>\n",
       "      <th>Product</th>\n",
       "      <th>Quantity Ordered</th>\n",
       "      <th>Price Each</th>\n",
       "      <th>Revenue</th>\n",
       "      <th>Order Date</th>\n",
       "      <th>Month</th>\n",
       "      <th>Purchase Address</th>\n",
       "      <th>City</th>\n",
       "      <th>State</th>\n",
       "    </tr>\n",
       "    <tr>\n",
       "      <th>Order ID</th>\n",
       "      <th></th>\n",
       "      <th></th>\n",
       "      <th></th>\n",
       "      <th></th>\n",
       "      <th></th>\n",
       "      <th></th>\n",
       "      <th></th>\n",
       "      <th></th>\n",
       "      <th></th>\n",
       "      <th></th>\n",
       "    </tr>\n",
       "  </thead>\n",
       "  <tbody>\n",
       "    <tr>\n",
       "      <th>176558</th>\n",
       "      <td>Other Electronics</td>\n",
       "      <td>USB-C Charging Cable</td>\n",
       "      <td>2</td>\n",
       "      <td>11.95</td>\n",
       "      <td>23.90</td>\n",
       "      <td>2019-04-19 08:46:00</td>\n",
       "      <td>Apr</td>\n",
       "      <td>917 1st St, Dallas, TX 75001</td>\n",
       "      <td>Dallas</td>\n",
       "      <td>TX</td>\n",
       "    </tr>\n",
       "    <tr>\n",
       "      <th>176559</th>\n",
       "      <td>Headphones</td>\n",
       "      <td>Bose SoundSport Headphones</td>\n",
       "      <td>1</td>\n",
       "      <td>99.99</td>\n",
       "      <td>99.99</td>\n",
       "      <td>2019-04-07 22:30:00</td>\n",
       "      <td>Apr</td>\n",
       "      <td>682 Chestnut St, Boston, MA 02215</td>\n",
       "      <td>Boston</td>\n",
       "      <td>MA</td>\n",
       "    </tr>\n",
       "    <tr>\n",
       "      <th>176560</th>\n",
       "      <td>Phones</td>\n",
       "      <td>Google Phone</td>\n",
       "      <td>1</td>\n",
       "      <td>600.00</td>\n",
       "      <td>600.00</td>\n",
       "      <td>2019-04-12 14:38:00</td>\n",
       "      <td>Apr</td>\n",
       "      <td>669 Spruce St, Los Angeles, CA 90001</td>\n",
       "      <td>Los Angeles</td>\n",
       "      <td>CA</td>\n",
       "    </tr>\n",
       "    <tr>\n",
       "      <th>176560</th>\n",
       "      <td>Headphones</td>\n",
       "      <td>Wired Headphones</td>\n",
       "      <td>1</td>\n",
       "      <td>11.99</td>\n",
       "      <td>11.99</td>\n",
       "      <td>2019-04-12 14:38:00</td>\n",
       "      <td>Apr</td>\n",
       "      <td>669 Spruce St, Los Angeles, CA 90001</td>\n",
       "      <td>Los Angeles</td>\n",
       "      <td>CA</td>\n",
       "    </tr>\n",
       "    <tr>\n",
       "      <th>176561</th>\n",
       "      <td>Headphones</td>\n",
       "      <td>Wired Headphones</td>\n",
       "      <td>1</td>\n",
       "      <td>11.99</td>\n",
       "      <td>11.99</td>\n",
       "      <td>2019-04-30 09:27:00</td>\n",
       "      <td>Apr</td>\n",
       "      <td>333 8th St, Los Angeles, CA 90001</td>\n",
       "      <td>Los Angeles</td>\n",
       "      <td>CA</td>\n",
       "    </tr>\n",
       "  </tbody>\n",
       "</table>\n",
       "</div>"
      ],
      "text/plain": [
       "                   Category                     Product  Quantity Ordered  \\\n",
       "Order ID                                                                    \n",
       "176558    Other Electronics        USB-C Charging Cable                 2   \n",
       "176559           Headphones  Bose SoundSport Headphones                 1   \n",
       "176560               Phones                Google Phone                 1   \n",
       "176560           Headphones            Wired Headphones                 1   \n",
       "176561           Headphones            Wired Headphones                 1   \n",
       "\n",
       "          Price Each  Revenue          Order Date Month  \\\n",
       "Order ID                                                  \n",
       "176558         11.95    23.90 2019-04-19 08:46:00   Apr   \n",
       "176559         99.99    99.99 2019-04-07 22:30:00   Apr   \n",
       "176560        600.00   600.00 2019-04-12 14:38:00   Apr   \n",
       "176560         11.99    11.99 2019-04-12 14:38:00   Apr   \n",
       "176561         11.99    11.99 2019-04-30 09:27:00   Apr   \n",
       "\n",
       "                              Purchase Address          City State  \n",
       "Order ID                                                            \n",
       "176558            917 1st St, Dallas, TX 75001        Dallas    TX  \n",
       "176559       682 Chestnut St, Boston, MA 02215        Boston    MA  \n",
       "176560    669 Spruce St, Los Angeles, CA 90001   Los Angeles    CA  \n",
       "176560    669 Spruce St, Los Angeles, CA 90001   Los Angeles    CA  \n",
       "176561       333 8th St, Los Angeles, CA 90001   Los Angeles    CA  "
      ]
     },
     "execution_count": 133,
     "metadata": {},
     "output_type": "execute_result"
    }
   ],
   "source": [
    "#reordering the columns \n",
    "df = df[[\n",
    " 'Category',\n",
    " 'Product',\n",
    " 'Quantity Ordered',\n",
    " 'Price Each',\n",
    " 'Revenue',\n",
    " 'Order Date',\n",
    " 'Month',\n",
    " 'Purchase Address',\n",
    " 'City',\n",
    " 'State']]\n",
    "df.head()"
   ]
  },
  {
   "cell_type": "code",
   "execution_count": 134,
   "id": "b9dde80c",
   "metadata": {
    "scrolled": true
   },
   "outputs": [
    {
     "data": {
      "text/html": [
       "<div>\n",
       "<style scoped>\n",
       "    .dataframe tbody tr th:only-of-type {\n",
       "        vertical-align: middle;\n",
       "    }\n",
       "\n",
       "    .dataframe tbody tr th {\n",
       "        vertical-align: top;\n",
       "    }\n",
       "\n",
       "    .dataframe thead th {\n",
       "        text-align: right;\n",
       "    }\n",
       "</style>\n",
       "<table border=\"1\" class=\"dataframe\">\n",
       "  <thead>\n",
       "    <tr style=\"text-align: right;\">\n",
       "      <th></th>\n",
       "      <th>Category</th>\n",
       "      <th>Product</th>\n",
       "      <th>Quantity Ordered</th>\n",
       "      <th>Price Each</th>\n",
       "      <th>Revenue</th>\n",
       "      <th>Order Date</th>\n",
       "      <th>Month</th>\n",
       "      <th>Purchase Address</th>\n",
       "      <th>City</th>\n",
       "      <th>State</th>\n",
       "    </tr>\n",
       "    <tr>\n",
       "      <th>Order ID</th>\n",
       "      <th></th>\n",
       "      <th></th>\n",
       "      <th></th>\n",
       "      <th></th>\n",
       "      <th></th>\n",
       "      <th></th>\n",
       "      <th></th>\n",
       "      <th></th>\n",
       "      <th></th>\n",
       "      <th></th>\n",
       "    </tr>\n",
       "  </thead>\n",
       "  <tbody>\n",
       "    <tr>\n",
       "      <th>176558</th>\n",
       "      <td>Other Electronics</td>\n",
       "      <td>USB-C Charging Cable</td>\n",
       "      <td>2</td>\n",
       "      <td>11.95</td>\n",
       "      <td>23.90</td>\n",
       "      <td>2019-04-19 08:46:00</td>\n",
       "      <td>Apr</td>\n",
       "      <td>917 1st St, Dallas, TX 75001</td>\n",
       "      <td>Dallas</td>\n",
       "      <td>TX</td>\n",
       "    </tr>\n",
       "    <tr>\n",
       "      <th>176559</th>\n",
       "      <td>Headphones</td>\n",
       "      <td>Bose SoundSport Headphones</td>\n",
       "      <td>1</td>\n",
       "      <td>99.99</td>\n",
       "      <td>99.99</td>\n",
       "      <td>2019-04-07 22:30:00</td>\n",
       "      <td>Apr</td>\n",
       "      <td>682 Chestnut St, Boston, MA 02215</td>\n",
       "      <td>Boston</td>\n",
       "      <td>MA</td>\n",
       "    </tr>\n",
       "    <tr>\n",
       "      <th>176560</th>\n",
       "      <td>Phones</td>\n",
       "      <td>Google Phone</td>\n",
       "      <td>1</td>\n",
       "      <td>600.00</td>\n",
       "      <td>600.00</td>\n",
       "      <td>2019-04-12 14:38:00</td>\n",
       "      <td>Apr</td>\n",
       "      <td>669 Spruce St, Los Angeles, CA 90001</td>\n",
       "      <td>Los Angeles</td>\n",
       "      <td>CA</td>\n",
       "    </tr>\n",
       "    <tr>\n",
       "      <th>176560</th>\n",
       "      <td>Headphones</td>\n",
       "      <td>Wired Headphones</td>\n",
       "      <td>1</td>\n",
       "      <td>11.99</td>\n",
       "      <td>11.99</td>\n",
       "      <td>2019-04-12 14:38:00</td>\n",
       "      <td>Apr</td>\n",
       "      <td>669 Spruce St, Los Angeles, CA 90001</td>\n",
       "      <td>Los Angeles</td>\n",
       "      <td>CA</td>\n",
       "    </tr>\n",
       "    <tr>\n",
       "      <th>176561</th>\n",
       "      <td>Headphones</td>\n",
       "      <td>Wired Headphones</td>\n",
       "      <td>1</td>\n",
       "      <td>11.99</td>\n",
       "      <td>11.99</td>\n",
       "      <td>2019-04-30 09:27:00</td>\n",
       "      <td>Apr</td>\n",
       "      <td>333 8th St, Los Angeles, CA 90001</td>\n",
       "      <td>Los Angeles</td>\n",
       "      <td>CA</td>\n",
       "    </tr>\n",
       "    <tr>\n",
       "      <th>...</th>\n",
       "      <td>...</td>\n",
       "      <td>...</td>\n",
       "      <td>...</td>\n",
       "      <td>...</td>\n",
       "      <td>...</td>\n",
       "      <td>...</td>\n",
       "      <td>...</td>\n",
       "      <td>...</td>\n",
       "      <td>...</td>\n",
       "      <td>...</td>\n",
       "    </tr>\n",
       "    <tr>\n",
       "      <th>259353</th>\n",
       "      <td>Other Electronics</td>\n",
       "      <td>AAA Batteries (4-pack)</td>\n",
       "      <td>3</td>\n",
       "      <td>2.99</td>\n",
       "      <td>8.97</td>\n",
       "      <td>2019-09-17 20:56:00</td>\n",
       "      <td>Sep</td>\n",
       "      <td>840 Highland St, Los Angeles, CA 90001</td>\n",
       "      <td>Los Angeles</td>\n",
       "      <td>CA</td>\n",
       "    </tr>\n",
       "    <tr>\n",
       "      <th>259354</th>\n",
       "      <td>Phones</td>\n",
       "      <td>iPhone</td>\n",
       "      <td>1</td>\n",
       "      <td>700.00</td>\n",
       "      <td>700.00</td>\n",
       "      <td>2019-09-01 16:00:00</td>\n",
       "      <td>Sep</td>\n",
       "      <td>216 Dogwood St, San Francisco, CA 94016</td>\n",
       "      <td>San Francisco</td>\n",
       "      <td>CA</td>\n",
       "    </tr>\n",
       "    <tr>\n",
       "      <th>259355</th>\n",
       "      <td>Phones</td>\n",
       "      <td>iPhone</td>\n",
       "      <td>1</td>\n",
       "      <td>700.00</td>\n",
       "      <td>700.00</td>\n",
       "      <td>2019-09-23 07:39:00</td>\n",
       "      <td>Sep</td>\n",
       "      <td>220 12th St, San Francisco, CA 94016</td>\n",
       "      <td>San Francisco</td>\n",
       "      <td>CA</td>\n",
       "    </tr>\n",
       "    <tr>\n",
       "      <th>259356</th>\n",
       "      <td>Monitors</td>\n",
       "      <td>34in Ultrawide Monitor</td>\n",
       "      <td>1</td>\n",
       "      <td>379.99</td>\n",
       "      <td>379.99</td>\n",
       "      <td>2019-09-19 17:30:00</td>\n",
       "      <td>Sep</td>\n",
       "      <td>511 Forest St, San Francisco, CA 94016</td>\n",
       "      <td>San Francisco</td>\n",
       "      <td>CA</td>\n",
       "    </tr>\n",
       "    <tr>\n",
       "      <th>259357</th>\n",
       "      <td>Other Electronics</td>\n",
       "      <td>USB-C Charging Cable</td>\n",
       "      <td>1</td>\n",
       "      <td>11.95</td>\n",
       "      <td>11.95</td>\n",
       "      <td>2019-09-30 00:18:00</td>\n",
       "      <td>Sep</td>\n",
       "      <td>250 Meadow St, San Francisco, CA 94016</td>\n",
       "      <td>San Francisco</td>\n",
       "      <td>CA</td>\n",
       "    </tr>\n",
       "  </tbody>\n",
       "</table>\n",
       "<p>185686 rows × 10 columns</p>\n",
       "</div>"
      ],
      "text/plain": [
       "                   Category                     Product  Quantity Ordered  \\\n",
       "Order ID                                                                    \n",
       "176558    Other Electronics        USB-C Charging Cable                 2   \n",
       "176559           Headphones  Bose SoundSport Headphones                 1   \n",
       "176560               Phones                Google Phone                 1   \n",
       "176560           Headphones            Wired Headphones                 1   \n",
       "176561           Headphones            Wired Headphones                 1   \n",
       "...                     ...                         ...               ...   \n",
       "259353    Other Electronics      AAA Batteries (4-pack)                 3   \n",
       "259354               Phones                      iPhone                 1   \n",
       "259355               Phones                      iPhone                 1   \n",
       "259356             Monitors      34in Ultrawide Monitor                 1   \n",
       "259357    Other Electronics        USB-C Charging Cable                 1   \n",
       "\n",
       "          Price Each  Revenue          Order Date Month  \\\n",
       "Order ID                                                  \n",
       "176558         11.95    23.90 2019-04-19 08:46:00   Apr   \n",
       "176559         99.99    99.99 2019-04-07 22:30:00   Apr   \n",
       "176560        600.00   600.00 2019-04-12 14:38:00   Apr   \n",
       "176560         11.99    11.99 2019-04-12 14:38:00   Apr   \n",
       "176561         11.99    11.99 2019-04-30 09:27:00   Apr   \n",
       "...              ...      ...                 ...   ...   \n",
       "259353          2.99     8.97 2019-09-17 20:56:00   Sep   \n",
       "259354        700.00   700.00 2019-09-01 16:00:00   Sep   \n",
       "259355        700.00   700.00 2019-09-23 07:39:00   Sep   \n",
       "259356        379.99   379.99 2019-09-19 17:30:00   Sep   \n",
       "259357         11.95    11.95 2019-09-30 00:18:00   Sep   \n",
       "\n",
       "                                 Purchase Address            City State  \n",
       "Order ID                                                                 \n",
       "176558               917 1st St, Dallas, TX 75001          Dallas    TX  \n",
       "176559          682 Chestnut St, Boston, MA 02215          Boston    MA  \n",
       "176560       669 Spruce St, Los Angeles, CA 90001     Los Angeles    CA  \n",
       "176560       669 Spruce St, Los Angeles, CA 90001     Los Angeles    CA  \n",
       "176561          333 8th St, Los Angeles, CA 90001     Los Angeles    CA  \n",
       "...                                           ...             ...   ...  \n",
       "259353     840 Highland St, Los Angeles, CA 90001     Los Angeles    CA  \n",
       "259354    216 Dogwood St, San Francisco, CA 94016   San Francisco    CA  \n",
       "259355       220 12th St, San Francisco, CA 94016   San Francisco    CA  \n",
       "259356     511 Forest St, San Francisco, CA 94016   San Francisco    CA  \n",
       "259357     250 Meadow St, San Francisco, CA 94016   San Francisco    CA  \n",
       "\n",
       "[185686 rows x 10 columns]"
      ]
     },
     "execution_count": 134,
     "metadata": {},
     "output_type": "execute_result"
    }
   ],
   "source": [
    "#dropping duplicate rows\n",
    "df.drop_duplicates()"
   ]
  },
  {
   "cell_type": "code",
   "execution_count": 135,
   "id": "36f5483a",
   "metadata": {
    "scrolled": true
   },
   "outputs": [
    {
     "data": {
      "text/html": [
       "<div>\n",
       "<style scoped>\n",
       "    .dataframe tbody tr th:only-of-type {\n",
       "        vertical-align: middle;\n",
       "    }\n",
       "\n",
       "    .dataframe tbody tr th {\n",
       "        vertical-align: top;\n",
       "    }\n",
       "\n",
       "    .dataframe thead th {\n",
       "        text-align: right;\n",
       "    }\n",
       "</style>\n",
       "<table border=\"1\" class=\"dataframe\">\n",
       "  <thead>\n",
       "    <tr style=\"text-align: right;\">\n",
       "      <th></th>\n",
       "      <th>Category</th>\n",
       "      <th>Product</th>\n",
       "      <th>Quantity Ordered</th>\n",
       "      <th>Price Each</th>\n",
       "      <th>Revenue</th>\n",
       "      <th>Order Date</th>\n",
       "      <th>Month</th>\n",
       "      <th>Purchase Address</th>\n",
       "      <th>City</th>\n",
       "      <th>State</th>\n",
       "      <th>Customer</th>\n",
       "    </tr>\n",
       "    <tr>\n",
       "      <th>Order ID</th>\n",
       "      <th></th>\n",
       "      <th></th>\n",
       "      <th></th>\n",
       "      <th></th>\n",
       "      <th></th>\n",
       "      <th></th>\n",
       "      <th></th>\n",
       "      <th></th>\n",
       "      <th></th>\n",
       "      <th></th>\n",
       "      <th></th>\n",
       "    </tr>\n",
       "  </thead>\n",
       "  <tbody>\n",
       "    <tr>\n",
       "      <th>176558</th>\n",
       "      <td>Other Electronics</td>\n",
       "      <td>USB-C Charging Cable</td>\n",
       "      <td>2</td>\n",
       "      <td>11.95</td>\n",
       "      <td>23.90</td>\n",
       "      <td>2019-04-19 08:46:00</td>\n",
       "      <td>Apr</td>\n",
       "      <td>917 1st St, Dallas, TX 75001</td>\n",
       "      <td>Dallas</td>\n",
       "      <td>TX</td>\n",
       "      <td>New</td>\n",
       "    </tr>\n",
       "    <tr>\n",
       "      <th>176559</th>\n",
       "      <td>Headphones</td>\n",
       "      <td>Bose SoundSport Headphones</td>\n",
       "      <td>1</td>\n",
       "      <td>99.99</td>\n",
       "      <td>99.99</td>\n",
       "      <td>2019-04-07 22:30:00</td>\n",
       "      <td>Apr</td>\n",
       "      <td>682 Chestnut St, Boston, MA 02215</td>\n",
       "      <td>Boston</td>\n",
       "      <td>MA</td>\n",
       "      <td>New</td>\n",
       "    </tr>\n",
       "    <tr>\n",
       "      <th>176560</th>\n",
       "      <td>Phones</td>\n",
       "      <td>Google Phone</td>\n",
       "      <td>1</td>\n",
       "      <td>600.00</td>\n",
       "      <td>600.00</td>\n",
       "      <td>2019-04-12 14:38:00</td>\n",
       "      <td>Apr</td>\n",
       "      <td>669 Spruce St, Los Angeles, CA 90001</td>\n",
       "      <td>Los Angeles</td>\n",
       "      <td>CA</td>\n",
       "      <td>New</td>\n",
       "    </tr>\n",
       "    <tr>\n",
       "      <th>176560</th>\n",
       "      <td>Headphones</td>\n",
       "      <td>Wired Headphones</td>\n",
       "      <td>1</td>\n",
       "      <td>11.99</td>\n",
       "      <td>11.99</td>\n",
       "      <td>2019-04-12 14:38:00</td>\n",
       "      <td>Apr</td>\n",
       "      <td>669 Spruce St, Los Angeles, CA 90001</td>\n",
       "      <td>Los Angeles</td>\n",
       "      <td>CA</td>\n",
       "      <td>Existing</td>\n",
       "    </tr>\n",
       "    <tr>\n",
       "      <th>176561</th>\n",
       "      <td>Headphones</td>\n",
       "      <td>Wired Headphones</td>\n",
       "      <td>1</td>\n",
       "      <td>11.99</td>\n",
       "      <td>11.99</td>\n",
       "      <td>2019-04-30 09:27:00</td>\n",
       "      <td>Apr</td>\n",
       "      <td>333 8th St, Los Angeles, CA 90001</td>\n",
       "      <td>Los Angeles</td>\n",
       "      <td>CA</td>\n",
       "      <td>New</td>\n",
       "    </tr>\n",
       "  </tbody>\n",
       "</table>\n",
       "</div>"
      ],
      "text/plain": [
       "                   Category                     Product  Quantity Ordered  \\\n",
       "Order ID                                                                    \n",
       "176558    Other Electronics        USB-C Charging Cable                 2   \n",
       "176559           Headphones  Bose SoundSport Headphones                 1   \n",
       "176560               Phones                Google Phone                 1   \n",
       "176560           Headphones            Wired Headphones                 1   \n",
       "176561           Headphones            Wired Headphones                 1   \n",
       "\n",
       "          Price Each  Revenue          Order Date Month  \\\n",
       "Order ID                                                  \n",
       "176558         11.95    23.90 2019-04-19 08:46:00   Apr   \n",
       "176559         99.99    99.99 2019-04-07 22:30:00   Apr   \n",
       "176560        600.00   600.00 2019-04-12 14:38:00   Apr   \n",
       "176560         11.99    11.99 2019-04-12 14:38:00   Apr   \n",
       "176561         11.99    11.99 2019-04-30 09:27:00   Apr   \n",
       "\n",
       "                              Purchase Address          City State  Customer  \n",
       "Order ID                                                                      \n",
       "176558            917 1st St, Dallas, TX 75001        Dallas    TX       New  \n",
       "176559       682 Chestnut St, Boston, MA 02215        Boston    MA       New  \n",
       "176560    669 Spruce St, Los Angeles, CA 90001   Los Angeles    CA       New  \n",
       "176560    669 Spruce St, Los Angeles, CA 90001   Los Angeles    CA  Existing  \n",
       "176561       333 8th St, Los Angeles, CA 90001   Los Angeles    CA       New  "
      ]
     },
     "execution_count": 135,
     "metadata": {},
     "output_type": "execute_result"
    }
   ],
   "source": [
    "#Adding a column to determine whether a customer is new or reoccuring, using Purchase Address.\n",
    "df = df.assign(Customer=np.where(~df['Purchase Address'].duplicated(),'New','Existing'))\n",
    "df.head()"
   ]
  },
  {
   "cell_type": "code",
   "execution_count": 136,
   "id": "6dfc6b01",
   "metadata": {},
   "outputs": [],
   "source": [
    " #Saving the cleaned data frame into a csv.\n",
    "df.to_csv('Sales_data_2019')"
   ]
  },
  {
   "cell_type": "markdown",
   "id": "24799b7a",
   "metadata": {},
   "source": [
    "EXPLORING THE DATA \n",
    "\n",
    "2. Univariate Analysis\n"
   ]
  },
  {
   "cell_type": "code",
   "execution_count": 144,
   "id": "c7c3082f",
   "metadata": {
    "scrolled": true
   },
   "outputs": [
    {
     "data": {
      "text/html": [
       "<div>\n",
       "<style scoped>\n",
       "    .dataframe tbody tr th:only-of-type {\n",
       "        vertical-align: middle;\n",
       "    }\n",
       "\n",
       "    .dataframe tbody tr th {\n",
       "        vertical-align: top;\n",
       "    }\n",
       "\n",
       "    .dataframe thead th {\n",
       "        text-align: right;\n",
       "    }\n",
       "</style>\n",
       "<table border=\"1\" class=\"dataframe\">\n",
       "  <thead>\n",
       "    <tr style=\"text-align: right;\">\n",
       "      <th></th>\n",
       "      <th>Quantity Ordered</th>\n",
       "      <th>Price Each</th>\n",
       "      <th>Revenue</th>\n",
       "    </tr>\n",
       "  </thead>\n",
       "  <tbody>\n",
       "    <tr>\n",
       "      <th>count</th>\n",
       "      <td>185950.000000</td>\n",
       "      <td>185950.000000</td>\n",
       "      <td>185950.000000</td>\n",
       "    </tr>\n",
       "    <tr>\n",
       "      <th>mean</th>\n",
       "      <td>1.124383</td>\n",
       "      <td>184.399735</td>\n",
       "      <td>185.490917</td>\n",
       "    </tr>\n",
       "    <tr>\n",
       "      <th>std</th>\n",
       "      <td>0.442793</td>\n",
       "      <td>332.731330</td>\n",
       "      <td>332.919771</td>\n",
       "    </tr>\n",
       "    <tr>\n",
       "      <th>min</th>\n",
       "      <td>1.000000</td>\n",
       "      <td>2.990000</td>\n",
       "      <td>2.990000</td>\n",
       "    </tr>\n",
       "    <tr>\n",
       "      <th>25%</th>\n",
       "      <td>1.000000</td>\n",
       "      <td>11.950000</td>\n",
       "      <td>11.950000</td>\n",
       "    </tr>\n",
       "    <tr>\n",
       "      <th>50%</th>\n",
       "      <td>1.000000</td>\n",
       "      <td>14.950000</td>\n",
       "      <td>14.950000</td>\n",
       "    </tr>\n",
       "    <tr>\n",
       "      <th>75%</th>\n",
       "      <td>1.000000</td>\n",
       "      <td>150.000000</td>\n",
       "      <td>150.000000</td>\n",
       "    </tr>\n",
       "    <tr>\n",
       "      <th>max</th>\n",
       "      <td>9.000000</td>\n",
       "      <td>1700.000000</td>\n",
       "      <td>3400.000000</td>\n",
       "    </tr>\n",
       "  </tbody>\n",
       "</table>\n",
       "</div>"
      ],
      "text/plain": [
       "       Quantity Ordered     Price Each        Revenue\n",
       "count     185950.000000  185950.000000  185950.000000\n",
       "mean           1.124383     184.399735     185.490917\n",
       "std            0.442793     332.731330     332.919771\n",
       "min            1.000000       2.990000       2.990000\n",
       "25%            1.000000      11.950000      11.950000\n",
       "50%            1.000000      14.950000      14.950000\n",
       "75%            1.000000     150.000000     150.000000\n",
       "max            9.000000    1700.000000    3400.000000"
      ]
     },
     "execution_count": 144,
     "metadata": {},
     "output_type": "execute_result"
    }
   ],
   "source": [
    "df.describe()"
   ]
  },
  {
   "cell_type": "markdown",
   "id": "ecc5306b",
   "metadata": {
    "scrolled": false
   },
   "source": [
    "There is a significant gap between the median revenue and the 75th percentile of revenues. While 25% of sales bring in more than USD 150 in revenue, half of the sales bring in less than USD 14.95.\n",
    "\n",
    "How do customers order?\n",
    "\n",
    "Most order quantities are closer to 1 item. With a standard deviation of 0.44 and a max order of 9 units. We can infer that items are not bought in bulk. \n",
    "\n",
    "What is the average order quantity per category?"
   ]
  },
  {
   "cell_type": "code",
   "execution_count": 145,
   "id": "0b2427ff",
   "metadata": {
    "scrolled": false
   },
   "outputs": [
    {
     "data": {
      "text/plain": [
       "Category\n",
       "Other Electronics    1.248470\n",
       "Headphones           1.040183\n",
       "Monitors             1.004781\n",
       "Phones               1.001178\n",
       "Laptops              1.000678\n",
       "Appliances           1.000000\n",
       "Name: Quantity Ordered, dtype: float64"
      ]
     },
     "execution_count": 145,
     "metadata": {},
     "output_type": "execute_result"
    }
   ],
   "source": [
    "Qty_by_Category = df.groupby('Category')['Quantity Ordered'].mean().sort_values(ascending=False)\n",
    "Qty_by_Category"
   ]
  },
  {
   "cell_type": "code",
   "execution_count": 146,
   "id": "33801062",
   "metadata": {
    "scrolled": true
   },
   "outputs": [
    {
     "data": {
      "image/png": "[encoded data removed]",
      "text/plain": [
       "<Figure size 432x288 with 1 Axes>"
      ]
     },
     "metadata": {},
     "output_type": "display_data"
    }
   ],
   "source": [
    "Qty_by_Category.plot(kind='bar')\n",
    "plt.title('Average Quantity Ordered by Category')\n",
    "plt.ylabel('Average Quantity Ordered')\n",
    "plt.xticks(rotation=45)\n",
    "plt.show()"
   ]
  },
  {
   "cell_type": "markdown",
   "id": "d8455ae8",
   "metadata": {},
   "source": [
    "3. KPI ANALYSIS\n",
    "\n",
    "a. What is the average revenue per order?"
   ]
  },
  {
   "cell_type": "code",
   "execution_count": 158,
   "id": "9d7f168f",
   "metadata": {
    "scrolled": true
   },
   "outputs": [
    {
     "data": {
      "text/plain": [
       "193.30091836334392"
      ]
     },
     "execution_count": 158,
     "metadata": {},
     "output_type": "execute_result"
    }
   ],
   "source": [
    "#What is the average revenue per order? \n",
    "rev_per_order = df.groupby('Order ID')['Revenue'].sum()\n",
    "rev_per_order.mean()\n"
   ]
  },
  {
   "cell_type": "markdown",
   "id": "d14892ba",
   "metadata": {},
   "source": [
    "The average revenue per order is $193.30.\n",
    "\n",
    "b. What is the monthly sales revenue?"
   ]
  },
  {
   "cell_type": "code",
   "execution_count": 148,
   "id": "5e9ee0dd",
   "metadata": {
    "scrolled": true
   },
   "outputs": [
    {
     "data": {
      "text/plain": [
       "Month\n",
       "Jan    1822256.73\n",
       "Feb    2202022.42\n",
       "Mar    2807100.38\n",
       "Apr    3390670.24\n",
       "May    3152606.75\n",
       "Jun    2577802.26\n",
       "Jul    2647775.76\n",
       "Aug    2244467.88\n",
       "Sep    2097560.13\n",
       "Oct    3736726.88\n",
       "Nov    3199603.20\n",
       "Dec    4613443.34\n",
       "Name: Revenue, dtype: float64"
      ]
     },
     "execution_count": 148,
     "metadata": {},
     "output_type": "execute_result"
    }
   ],
   "source": [
    "#First, ordering the months into the regular calendar order\n",
    "months = [\"Jan\", \"Feb\", \"Mar\", \"Apr\", \"May\", \"Jun\", \n",
    "          \"Jul\", \"Aug\", \"Sep\", \"Oct\", \"Nov\", \"Dec\"]\n",
    "df['Month'] = pd.Categorical(df['Month'], categories=months, ordered=True)\n",
    "df.sort_values(by='Month',inplace=True) \n",
    "\n",
    "#Calculating the monthly sales revenue\n",
    "Monthly = df.groupby('Month')['Revenue'].sum()\n",
    "Monthly"
   ]
  },
  {
   "cell_type": "code",
   "execution_count": 149,
   "id": "968cf27c",
   "metadata": {
    "scrolled": true
   },
   "outputs": [
    {
     "data": {
      "image/png": "[encoded data removed]",
      "text/plain": [
       "<Figure size 432x288 with 1 Axes>"
      ]
     },
     "metadata": {},
     "output_type": "display_data"
    }
   ],
   "source": [
    "#Visualizing \n",
    "\n",
    "#Plotting monthly sales\n",
    "Monthly.plot()\n",
    "plt.xlabel('Month')\n",
    "plt.ylabel('Revenue ($ Million)')\n",
    "plt.title('Monthly Revenue')\n",
    "plt.show()"
   ]
  },
  {
   "cell_type": "markdown",
   "id": "45fa54d8",
   "metadata": {},
   "source": [
    "December had the highest sales revenues at USD 4.6M. January had the lowest at USD 1.8.\n",
    "\n",
    "c. What category of products had the largest sales volume?"
   ]
  },
  {
   "cell_type": "code",
   "execution_count": 137,
   "id": "b2db40fb",
   "metadata": {
    "scrolled": true
   },
   "outputs": [
    {
     "data": {
      "text/plain": [
       "Category\n",
       "Other Electronics    105844.0\n",
       "Headphones            49675.0\n",
       "Monitors              22697.0\n",
       "Phones                14449.0\n",
       "Laptops                8858.0\n",
       "Appliances             1312.0\n",
       "Name: Quantity Ordered, dtype: float64"
      ]
     },
     "execution_count": 137,
     "metadata": {},
     "output_type": "execute_result"
    }
   ],
   "source": [
    "#Calculating the sales volume for each category of product\n",
    "Sales_vol_by_cat = df.groupby('Category')['Quantity Ordered'].sum().sort_values(ascending=False)\n",
    "Sales_vol_by_cat\n",
    "\n"
   ]
  },
  {
   "cell_type": "code",
   "execution_count": 138,
   "id": "d707cc73",
   "metadata": {
    "scrolled": true
   },
   "outputs": [
    {
     "data": {
      "image/png": "[encoded data removed]",
      "text/plain": [
       "<Figure size 432x288 with 1 Axes>"
      ]
     },
     "metadata": {},
     "output_type": "display_data"
    }
   ],
   "source": [
    "#visualizing the sales volume by category\n",
    "Sales_vol_by_cat.plot(kind='bar')\n",
    "plt.title('Sales volumes by Category')\n",
    "plt.ylabel('Quantity sold')\n",
    "plt.xticks(rotation=45)\n",
    "plt.show()"
   ]
  },
  {
   "cell_type": "markdown",
   "id": "e241bcca",
   "metadata": {},
   "source": [
    "The other electronics and headphones categories represented the largest sales volumes.\n",
    "\n",
    "d. What specific products had the largest sales volume?"
   ]
  },
  {
   "cell_type": "code",
   "execution_count": 139,
   "id": "b517b3e4",
   "metadata": {
    "scrolled": true
   },
   "outputs": [
    {
     "data": {
      "text/plain": [
       "Product\n",
       "AAA Batteries (4-pack)        31017.0\n",
       "AA Batteries (4-pack)         27635.0\n",
       "USB-C Charging Cable          23975.0\n",
       "Lightning Charging Cable      23217.0\n",
       "Wired Headphones              20557.0\n",
       "Apple Airpods Headphones      15661.0\n",
       "Bose SoundSport Headphones    13457.0\n",
       "27in FHD Monitor               7550.0\n",
       "iPhone                         6849.0\n",
       "27in 4K Gaming Monitor         6244.0\n",
       "34in Ultrawide Monitor         6199.0\n",
       "Google Phone                   5532.0\n",
       "Flatscreen TV                  4819.0\n",
       "Macbook Pro Laptop             4728.0\n",
       "ThinkPad Laptop                4130.0\n",
       "20in Monitor                   4129.0\n",
       "Vareebadd Phone                2068.0\n",
       "LG Washing Machine              666.0\n",
       "LG Dryer                        646.0\n",
       "Name: Quantity Ordered, dtype: float64"
      ]
     },
     "execution_count": 139,
     "metadata": {},
     "output_type": "execute_result"
    }
   ],
   "source": [
    "Sales_volume = df.groupby('Product')['Quantity Ordered'].sum().sort_values(ascending=False)\n",
    "Sales_volume"
   ]
  },
  {
   "cell_type": "markdown",
   "id": "7154843b",
   "metadata": {},
   "source": [
    "4-pack batteries and USB-C charging cables had the largest sales volumes. \n",
    "\n",
    "\n",
    "e. What category of products made the most sales revenue?"
   ]
  },
  {
   "cell_type": "code",
   "execution_count": 140,
   "id": "78bf5ec0",
   "metadata": {},
   "outputs": [
    {
     "data": {
      "text/plain": [
       "Category\n",
       "Laptops              12167558.70\n",
       "Phones                8940700.00\n",
       "Monitors              5387831.22\n",
       "Headphones            3941193.86\n",
       "Other Electronics      832454.63\n",
       "Appliances             787200.00\n",
       "Name: Revenue, dtype: float64"
      ]
     },
     "execution_count": 140,
     "metadata": {},
     "output_type": "execute_result"
    }
   ],
   "source": [
    "#Calculating for total sales revenue by category\n",
    "Sales_by_cat=df.groupby('Category')['Revenue'].sum().sort_values(ascending=False)\n",
    "Sales_by_cat"
   ]
  },
  {
   "cell_type": "code",
   "execution_count": 141,
   "id": "fa30cefa",
   "metadata": {},
   "outputs": [
    {
     "data": {
      "image/png": "[encoded data removed]",
      "text/plain": [
       "<Figure size 432x288 with 1 Axes>"
      ]
     },
     "metadata": {},
     "output_type": "display_data"
    }
   ],
   "source": [
    "Sales_by_cat.plot(kind='bar')\n",
    "plt.title('Sales revenue by Category')\n",
    "plt.ylabel('Sales ($ Millions)')\n",
    "plt.xticks(rotation=45)\n",
    "plt.show()"
   ]
  },
  {
   "cell_type": "markdown",
   "id": "8484fdb5",
   "metadata": {},
   "source": [
    "Laptops account for the largest sales revenue by far, followed by phones and monitors. Appliances and Other Electronics (including batteries and chargers) make up the lowest sales revenue.\n",
    "\n",
    "f. What items made the most and the least sales revenue?"
   ]
  },
  {
   "cell_type": "code",
   "execution_count": 142,
   "id": "4e8fed06",
   "metadata": {
    "scrolled": true
   },
   "outputs": [
    {
     "data": {
      "text/plain": [
       "Product\n",
       "Macbook Pro Laptop            8037600.00\n",
       "iPhone                        4794300.00\n",
       "ThinkPad Laptop               4129958.70\n",
       "Google Phone                  3319200.00\n",
       "27in 4K Gaming Monitor        2435097.56\n",
       "34in Ultrawide Monitor        2355558.01\n",
       "Apple Airpods Headphones      2349150.00\n",
       "Flatscreen TV                 1445700.00\n",
       "Bose SoundSport Headphones    1345565.43\n",
       "27in FHD Monitor              1132424.50\n",
       "Vareebadd Phone                827200.00\n",
       "20in Monitor                   454148.71\n",
       "LG Washing Machine             399600.00\n",
       "LG Dryer                       387600.00\n",
       "Lightning Charging Cable       347094.15\n",
       "USB-C Charging Cable           286501.25\n",
       "Wired Headphones               246478.43\n",
       "AA Batteries (4-pack)          106118.40\n",
       "AAA Batteries (4-pack)          92740.83\n",
       "Name: Revenue, dtype: float64"
      ]
     },
     "execution_count": 142,
     "metadata": {},
     "output_type": "execute_result"
    }
   ],
   "source": [
    "#Calculating for total revenue by item\n",
    "Sales_by_item=df.groupby('Product')['Revenue'].sum().sort_values(ascending=False)\n",
    "Sales_by_item\n"
   ]
  },
  {
   "cell_type": "code",
   "execution_count": 143,
   "id": "e14daf27",
   "metadata": {
    "scrolled": false
   },
   "outputs": [
    {
     "data": {
      "image/png": "[encoded data removed]",
      "text/plain": [
       "<Figure size 432x288 with 1 Axes>"
      ]
     },
     "metadata": {},
     "output_type": "display_data"
    },
    {
     "data": {
      "image/png": "[encoded data removed]",
      "text/plain": [
       "<Figure size 432x288 with 1 Axes>"
      ]
     },
     "metadata": {},
     "output_type": "display_data"
    }
   ],
   "source": [
    "Sales_by_item[:5].plot(kind='bar')\n",
    "plt.title('Top 5 Sales Revenue by item')\n",
    "plt.ylabel('Sales ($ Millions)')\n",
    "plt.xticks(rotation=60)\n",
    "plt.show()\n",
    "\n",
    "Sales_by_item[-5:].plot(kind='bar')\n",
    "plt.title('Bottom 5 Sales Revenue by item')\n",
    "plt.ylabel('Sales ($ Millions)')\n",
    "plt.xticks(rotation=60)\n",
    "plt.show()"
   ]
  },
  {
   "cell_type": "markdown",
   "id": "2f137e1a",
   "metadata": {},
   "source": [
    "Macbook Pros account for the largest sales revenue by far, followed by iPhones and Thinkpad Laptops. 4-pack batteries and Wired headphones make the least sales revenue. "
   ]
  },
  {
   "cell_type": "markdown",
   "id": "0613b759",
   "metadata": {},
   "source": [
    "g. What is the average monthly growth rate?"
   ]
  },
  {
   "cell_type": "code",
   "execution_count": 150,
   "id": "26ca76f6",
   "metadata": {
    "scrolled": true
   },
   "outputs": [
    {
     "data": {
      "text/plain": [
       "Month\n",
       "Jan         NaN\n",
       "Feb    0.208404\n",
       "Mar    0.274783\n",
       "Apr    0.207891\n",
       "May   -0.070211\n",
       "Jun   -0.182327\n",
       "Jul    0.027145\n",
       "Aug   -0.152320\n",
       "Sep   -0.065453\n",
       "Oct    0.781464\n",
       "Nov   -0.143742\n",
       "Dec    0.441880\n",
       "Name: Revenue, dtype: float64"
      ]
     },
     "execution_count": 150,
     "metadata": {},
     "output_type": "execute_result"
    }
   ],
   "source": [
    "Growth_rate = Monthly.pct_change()\n",
    "Growth_rate"
   ]
  },
  {
   "cell_type": "code",
   "execution_count": 151,
   "id": "b9fa8974",
   "metadata": {},
   "outputs": [
    {
     "data": {
      "text/plain": [
       "0.12068299362217756"
      ]
     },
     "execution_count": 151,
     "metadata": {},
     "output_type": "execute_result"
    }
   ],
   "source": [
    "Growth_rate.mean()"
   ]
  },
  {
   "cell_type": "markdown",
   "id": "eb763c0f",
   "metadata": {},
   "source": [
    "The average monthly growth rate is 12.06%.\n",
    " \n",
    "h. What are the top 10 states by sales?"
   ]
  },
  {
   "cell_type": "code",
   "execution_count": 152,
   "id": "a4104124",
   "metadata": {},
   "outputs": [],
   "source": [
    "top_states = df.groupby(['State'])['Revenue'].sum().sort_values(ascending=False)"
   ]
  },
  {
   "cell_type": "code",
   "execution_count": 153,
   "id": "084cce54",
   "metadata": {},
   "outputs": [
    {
     "data": {
      "image/png": "[encoded data removed]",
      "text/plain": [
       "<Figure size 432x288 with 1 Axes>"
      ]
     },
     "metadata": {},
     "output_type": "display_data"
    }
   ],
   "source": [
    "\n",
    "top_states.plot(kind = 'bar')\n",
    "plt.title('Top 10 States by Sales')\n",
    "plt.xlabel('State')\n",
    "plt.ylabel('Total Sales')\n",
    "plt.xticks(rotation=45)\n",
    "plt.show()"
   ]
  },
  {
   "cell_type": "markdown",
   "id": "442b1d74",
   "metadata": {},
   "source": [
    "California accounted for the largest sales by far with more than $1.3M in 2019. \n",
    "\n",
    "i. What is the number of monthly active customers? "
   ]
  },
  {
   "cell_type": "code",
   "execution_count": 154,
   "id": "8463acf5",
   "metadata": {
    "scrolled": false
   },
   "outputs": [
    {
     "data": {
      "text/html": [
       "<div>\n",
       "<style scoped>\n",
       "    .dataframe tbody tr th:only-of-type {\n",
       "        vertical-align: middle;\n",
       "    }\n",
       "\n",
       "    .dataframe tbody tr th {\n",
       "        vertical-align: top;\n",
       "    }\n",
       "\n",
       "    .dataframe thead th {\n",
       "        text-align: right;\n",
       "    }\n",
       "</style>\n",
       "<table border=\"1\" class=\"dataframe\">\n",
       "  <thead>\n",
       "    <tr style=\"text-align: right;\">\n",
       "      <th></th>\n",
       "      <th>Purchase Address</th>\n",
       "    </tr>\n",
       "    <tr>\n",
       "      <th>Month</th>\n",
       "      <th></th>\n",
       "    </tr>\n",
       "  </thead>\n",
       "  <tbody>\n",
       "    <tr>\n",
       "      <th>Jan</th>\n",
       "      <td>9185</td>\n",
       "    </tr>\n",
       "    <tr>\n",
       "      <th>Feb</th>\n",
       "      <td>11304</td>\n",
       "    </tr>\n",
       "    <tr>\n",
       "      <th>Mar</th>\n",
       "      <td>14245</td>\n",
       "    </tr>\n",
       "    <tr>\n",
       "      <th>Apr</th>\n",
       "      <td>17112</td>\n",
       "    </tr>\n",
       "    <tr>\n",
       "      <th>May</th>\n",
       "      <td>15471</td>\n",
       "    </tr>\n",
       "    <tr>\n",
       "      <th>Jun</th>\n",
       "      <td>12720</td>\n",
       "    </tr>\n",
       "    <tr>\n",
       "      <th>Jul</th>\n",
       "      <td>13473</td>\n",
       "    </tr>\n",
       "    <tr>\n",
       "      <th>Aug</th>\n",
       "      <td>11300</td>\n",
       "    </tr>\n",
       "    <tr>\n",
       "      <th>Sep</th>\n",
       "      <td>11025</td>\n",
       "    </tr>\n",
       "    <tr>\n",
       "      <th>Oct</th>\n",
       "      <td>18914</td>\n",
       "    </tr>\n",
       "    <tr>\n",
       "      <th>Nov</th>\n",
       "      <td>16484</td>\n",
       "    </tr>\n",
       "    <tr>\n",
       "      <th>Dec</th>\n",
       "      <td>23213</td>\n",
       "    </tr>\n",
       "  </tbody>\n",
       "</table>\n",
       "</div>"
      ],
      "text/plain": [
       "       Purchase Address\n",
       "Month                  \n",
       "Jan                9185\n",
       "Feb               11304\n",
       "Mar               14245\n",
       "Apr               17112\n",
       "May               15471\n",
       "Jun               12720\n",
       "Jul               13473\n",
       "Aug               11300\n",
       "Sep               11025\n",
       "Oct               18914\n",
       "Nov               16484\n",
       "Dec               23213"
      ]
     },
     "execution_count": 154,
     "metadata": {},
     "output_type": "execute_result"
    }
   ],
   "source": [
    "#Because we do not have customer IDs or names, we can only identify each unique customer thanks to their full address. \n",
    "active_customers = df.groupby(['Month'])[['Purchase Address']].nunique()\n",
    "active_customers"
   ]
  },
  {
   "cell_type": "markdown",
   "id": "a7c2d476",
   "metadata": {},
   "source": [
    "j. How many of these customers are new, how many are returning customers? What is the new customers growth rate?"
   ]
  },
  {
   "cell_type": "code",
   "execution_count": 155,
   "id": "b03f57ac",
   "metadata": {
    "scrolled": true
   },
   "outputs": [],
   "source": [
    "new_customers = df.groupby(['Month'])['Customer'].value_counts()"
   ]
  },
  {
   "cell_type": "code",
   "execution_count": 156,
   "id": "8a01120d",
   "metadata": {
    "scrolled": false
   },
   "outputs": [
    {
     "data": {
      "text/plain": [
       "Text(0, 0.5, 'customers')"
      ]
     },
     "execution_count": 156,
     "metadata": {},
     "output_type": "execute_result"
    },
    {
     "data": {
      "image/png": "[encoded data removed]",
      "text/plain": [
       "<Figure size 432x288 with 1 Axes>"
      ]
     },
     "metadata": {},
     "output_type": "display_data"
    }
   ],
   "source": [
    "#Visualizing new and existing customers\n",
    "new_customers = new_customers.unstack('Customer')\n",
    "n_c_plot = new_customers.columns.tolist()\n",
    "new_customers[n_c_plot].plot(kind='bar', stacked=True)\n",
    "plt.title('Existing vs new customers')\n",
    "plt.ylabel('customers')"
   ]
  },
  {
   "cell_type": "code",
   "execution_count": 157,
   "id": "16e58a55",
   "metadata": {},
   "outputs": [
    {
     "data": {
      "text/html": [
       "<div>\n",
       "<style scoped>\n",
       "    .dataframe tbody tr th:only-of-type {\n",
       "        vertical-align: middle;\n",
       "    }\n",
       "\n",
       "    .dataframe tbody tr th {\n",
       "        vertical-align: top;\n",
       "    }\n",
       "\n",
       "    .dataframe thead th {\n",
       "        text-align: right;\n",
       "    }\n",
       "</style>\n",
       "<table border=\"1\" class=\"dataframe\">\n",
       "  <thead>\n",
       "    <tr style=\"text-align: right;\">\n",
       "      <th>Customer</th>\n",
       "      <th>Existing</th>\n",
       "      <th>New</th>\n",
       "    </tr>\n",
       "    <tr>\n",
       "      <th>Month</th>\n",
       "      <th></th>\n",
       "      <th></th>\n",
       "    </tr>\n",
       "  </thead>\n",
       "  <tbody>\n",
       "    <tr>\n",
       "      <th>Jan</th>\n",
       "      <td>NaN</td>\n",
       "      <td>NaN</td>\n",
       "    </tr>\n",
       "    <tr>\n",
       "      <th>Feb</th>\n",
       "      <td>0.076773</td>\n",
       "      <td>0.275183</td>\n",
       "    </tr>\n",
       "    <tr>\n",
       "      <th>Mar</th>\n",
       "      <td>0.956403</td>\n",
       "      <td>0.109690</td>\n",
       "    </tr>\n",
       "    <tr>\n",
       "      <th>Apr</th>\n",
       "      <td>-0.727716</td>\n",
       "      <td>0.577317</td>\n",
       "    </tr>\n",
       "    <tr>\n",
       "      <th>May</th>\n",
       "      <td>3.500426</td>\n",
       "      <td>-0.340173</td>\n",
       "    </tr>\n",
       "    <tr>\n",
       "      <th>Jun</th>\n",
       "      <td>-0.323357</td>\n",
       "      <td>-0.115620</td>\n",
       "    </tr>\n",
       "    <tr>\n",
       "      <th>Jul</th>\n",
       "      <td>-0.044793</td>\n",
       "      <td>0.090062</td>\n",
       "    </tr>\n",
       "    <tr>\n",
       "      <th>Aug</th>\n",
       "      <td>-0.641266</td>\n",
       "      <td>-0.013234</td>\n",
       "    </tr>\n",
       "    <tr>\n",
       "      <th>Sep</th>\n",
       "      <td>2.775327</td>\n",
       "      <td>-0.348049</td>\n",
       "    </tr>\n",
       "    <tr>\n",
       "      <th>Oct</th>\n",
       "      <td>0.661762</td>\n",
       "      <td>0.800429</td>\n",
       "    </tr>\n",
       "    <tr>\n",
       "      <th>Nov</th>\n",
       "      <td>-0.214351</td>\n",
       "      <td>-0.084345</td>\n",
       "    </tr>\n",
       "    <tr>\n",
       "      <th>Dec</th>\n",
       "      <td>-0.400796</td>\n",
       "      <td>0.851733</td>\n",
       "    </tr>\n",
       "  </tbody>\n",
       "</table>\n",
       "</div>"
      ],
      "text/plain": [
       "Customer  Existing       New\n",
       "Month                       \n",
       "Jan            NaN       NaN\n",
       "Feb       0.076773  0.275183\n",
       "Mar       0.956403  0.109690\n",
       "Apr      -0.727716  0.577317\n",
       "May       3.500426 -0.340173\n",
       "Jun      -0.323357 -0.115620\n",
       "Jul      -0.044793  0.090062\n",
       "Aug      -0.641266 -0.013234\n",
       "Sep       2.775327 -0.348049\n",
       "Oct       0.661762  0.800429\n",
       "Nov      -0.214351 -0.084345\n",
       "Dec      -0.400796  0.851733"
      ]
     },
     "execution_count": 157,
     "metadata": {},
     "output_type": "execute_result"
    }
   ],
   "source": [
    "#Calculating the monthly new customers growth rate\n",
    "new_customers.pct_change()\n"
   ]
  },
  {
   "cell_type": "markdown",
   "id": "e8494636",
   "metadata": {},
   "source": [
    "December saw the largest influx of new customers, which may have followed a marketing campaign and other seasonal market factors. September had the lowest amount of new customers. "
   ]
  },
  {
   "cell_type": "code",
   "execution_count": null,
   "id": "95ba8fb3",
   "metadata": {},
   "outputs": [],
   "source": []
  }
 ],
 "metadata": {
  "kernelspec": {
   "display_name": "Python 3 (ipykernel)",
   "language": "python",
   "name": "python3"
  },
  "language_info": {
   "codemirror_mode": {
    "name": "ipython",
    "version": 3
   },
   "file_extension": ".py",
   "mimetype": "text/x-python",
   "name": "python",
   "nbconvert_exporter": "python",
   "pygments_lexer": "ipython3",
   "version": "3.10.5"
  }
 },
 "nbformat": 4,
 "nbformat_minor": 5
}
